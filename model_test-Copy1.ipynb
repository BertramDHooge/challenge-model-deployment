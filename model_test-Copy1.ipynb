{
 "cells": [
  {
   "cell_type": "code",
   "execution_count": 1,
   "metadata": {},
   "outputs": [],
   "source": [
    "import pandas as pd\n",
    "import matplotlib.pyplot as plt\n",
    "import seaborn as sns\n",
    "from sklearn.ensemble import RandomForestRegressor\n",
    "from sklearn.model_selection import train_test_split\n",
    "import pickle"
   ]
  },
  {
   "cell_type": "code",
   "execution_count": 2,
   "metadata": {},
   "outputs": [
    {
     "data": {
      "text/html": [
       "<div>\n",
       "<style scoped>\n",
       "    .dataframe tbody tr th:only-of-type {\n",
       "        vertical-align: middle;\n",
       "    }\n",
       "\n",
       "    .dataframe tbody tr th {\n",
       "        vertical-align: top;\n",
       "    }\n",
       "\n",
       "    .dataframe thead th {\n",
       "        text-align: right;\n",
       "    }\n",
       "</style>\n",
       "<table border=\"1\" class=\"dataframe\">\n",
       "  <thead>\n",
       "    <tr style=\"text-align: right;\">\n",
       "      <th></th>\n",
       "      <th>Location</th>\n",
       "      <th>Property subtype</th>\n",
       "      <th>Price</th>\n",
       "      <th>Number of bedrooms</th>\n",
       "      <th>Living area</th>\n",
       "      <th>Kitchen</th>\n",
       "      <th>Furnished</th>\n",
       "      <th>Open fireplace</th>\n",
       "      <th>Terrace</th>\n",
       "      <th>Garden</th>\n",
       "      <th>Surface area land</th>\n",
       "      <th>Pool</th>\n",
       "      <th>Condition</th>\n",
       "    </tr>\n",
       "  </thead>\n",
       "  <tbody>\n",
       "    <tr>\n",
       "      <th>0</th>\n",
       "      <td>Verviers</td>\n",
       "      <td>HOUSE</td>\n",
       "      <td>296607.0</td>\n",
       "      <td>3.0</td>\n",
       "      <td>130.0</td>\n",
       "      <td>False</td>\n",
       "      <td>False</td>\n",
       "      <td>False</td>\n",
       "      <td>True</td>\n",
       "      <td>True</td>\n",
       "      <td>239.0</td>\n",
       "      <td>False</td>\n",
       "      <td>True</td>\n",
       "    </tr>\n",
       "    <tr>\n",
       "      <th>2</th>\n",
       "      <td>Aalst</td>\n",
       "      <td>HOUSE</td>\n",
       "      <td>299000.0</td>\n",
       "      <td>5.0</td>\n",
       "      <td>200.0</td>\n",
       "      <td>True</td>\n",
       "      <td>False</td>\n",
       "      <td>False</td>\n",
       "      <td>False</td>\n",
       "      <td>False</td>\n",
       "      <td>1150.0</td>\n",
       "      <td>False</td>\n",
       "      <td>True</td>\n",
       "    </tr>\n",
       "    <tr>\n",
       "      <th>3</th>\n",
       "      <td>Charleroi</td>\n",
       "      <td>HOUSE</td>\n",
       "      <td>300000.0</td>\n",
       "      <td>0.0</td>\n",
       "      <td>270.0</td>\n",
       "      <td>False</td>\n",
       "      <td>False</td>\n",
       "      <td>False</td>\n",
       "      <td>True</td>\n",
       "      <td>True</td>\n",
       "      <td>498.0</td>\n",
       "      <td>False</td>\n",
       "      <td>False</td>\n",
       "    </tr>\n",
       "    <tr>\n",
       "      <th>4</th>\n",
       "      <td>Nivelles</td>\n",
       "      <td>HOUSE</td>\n",
       "      <td>195000.0</td>\n",
       "      <td>3.0</td>\n",
       "      <td>135.0</td>\n",
       "      <td>True</td>\n",
       "      <td>False</td>\n",
       "      <td>False</td>\n",
       "      <td>True</td>\n",
       "      <td>False</td>\n",
       "      <td>165.0</td>\n",
       "      <td>False</td>\n",
       "      <td>False</td>\n",
       "    </tr>\n",
       "    <tr>\n",
       "      <th>6</th>\n",
       "      <td>Oudenaarde</td>\n",
       "      <td>HOUSE</td>\n",
       "      <td>415000.0</td>\n",
       "      <td>3.0</td>\n",
       "      <td>207.0</td>\n",
       "      <td>True</td>\n",
       "      <td>False</td>\n",
       "      <td>False</td>\n",
       "      <td>True</td>\n",
       "      <td>True</td>\n",
       "      <td>534.0</td>\n",
       "      <td>False</td>\n",
       "      <td>True</td>\n",
       "    </tr>\n",
       "    <tr>\n",
       "      <th>...</th>\n",
       "      <td>...</td>\n",
       "      <td>...</td>\n",
       "      <td>...</td>\n",
       "      <td>...</td>\n",
       "      <td>...</td>\n",
       "      <td>...</td>\n",
       "      <td>...</td>\n",
       "      <td>...</td>\n",
       "      <td>...</td>\n",
       "      <td>...</td>\n",
       "      <td>...</td>\n",
       "      <td>...</td>\n",
       "      <td>...</td>\n",
       "    </tr>\n",
       "    <tr>\n",
       "      <th>10068</th>\n",
       "      <td>Marche-en-Famenne</td>\n",
       "      <td>HOUSE</td>\n",
       "      <td>390000.0</td>\n",
       "      <td>7.0</td>\n",
       "      <td>326.0</td>\n",
       "      <td>True</td>\n",
       "      <td>False</td>\n",
       "      <td>True</td>\n",
       "      <td>True</td>\n",
       "      <td>True</td>\n",
       "      <td>0.0</td>\n",
       "      <td>False</td>\n",
       "      <td>True</td>\n",
       "    </tr>\n",
       "    <tr>\n",
       "      <th>10069</th>\n",
       "      <td>Halle-Vilvoorde</td>\n",
       "      <td>HOUSE</td>\n",
       "      <td>488000.0</td>\n",
       "      <td>3.0</td>\n",
       "      <td>150.0</td>\n",
       "      <td>True</td>\n",
       "      <td>False</td>\n",
       "      <td>False</td>\n",
       "      <td>True</td>\n",
       "      <td>True</td>\n",
       "      <td>390.0</td>\n",
       "      <td>False</td>\n",
       "      <td>True</td>\n",
       "    </tr>\n",
       "    <tr>\n",
       "      <th>10070</th>\n",
       "      <td>Aalst</td>\n",
       "      <td>VILLA</td>\n",
       "      <td>550000.0</td>\n",
       "      <td>4.0</td>\n",
       "      <td>1380.0</td>\n",
       "      <td>True</td>\n",
       "      <td>False</td>\n",
       "      <td>True</td>\n",
       "      <td>True</td>\n",
       "      <td>True</td>\n",
       "      <td>1300.0</td>\n",
       "      <td>False</td>\n",
       "      <td>True</td>\n",
       "    </tr>\n",
       "    <tr>\n",
       "      <th>10071</th>\n",
       "      <td>Charleroi</td>\n",
       "      <td>HOUSE</td>\n",
       "      <td>115000.0</td>\n",
       "      <td>2.0</td>\n",
       "      <td>120.0</td>\n",
       "      <td>False</td>\n",
       "      <td>False</td>\n",
       "      <td>False</td>\n",
       "      <td>False</td>\n",
       "      <td>True</td>\n",
       "      <td>310.0</td>\n",
       "      <td>False</td>\n",
       "      <td>True</td>\n",
       "    </tr>\n",
       "    <tr>\n",
       "      <th>10076</th>\n",
       "      <td>Mons</td>\n",
       "      <td>VILLA</td>\n",
       "      <td>280000.0</td>\n",
       "      <td>3.0</td>\n",
       "      <td>120.0</td>\n",
       "      <td>True</td>\n",
       "      <td>False</td>\n",
       "      <td>False</td>\n",
       "      <td>True</td>\n",
       "      <td>True</td>\n",
       "      <td>839.0</td>\n",
       "      <td>False</td>\n",
       "      <td>True</td>\n",
       "    </tr>\n",
       "  </tbody>\n",
       "</table>\n",
       "<p>5864 rows × 13 columns</p>\n",
       "</div>"
      ],
      "text/plain": [
       "                Location Property subtype     Price  Number of bedrooms  \\\n",
       "0               Verviers            HOUSE  296607.0                 3.0   \n",
       "2                  Aalst            HOUSE  299000.0                 5.0   \n",
       "3              Charleroi            HOUSE  300000.0                 0.0   \n",
       "4               Nivelles            HOUSE  195000.0                 3.0   \n",
       "6             Oudenaarde            HOUSE  415000.0                 3.0   \n",
       "...                  ...              ...       ...                 ...   \n",
       "10068  Marche-en-Famenne            HOUSE  390000.0                 7.0   \n",
       "10069    Halle-Vilvoorde            HOUSE  488000.0                 3.0   \n",
       "10070              Aalst            VILLA  550000.0                 4.0   \n",
       "10071          Charleroi            HOUSE  115000.0                 2.0   \n",
       "10076               Mons            VILLA  280000.0                 3.0   \n",
       "\n",
       "       Living area  Kitchen  Furnished  Open fireplace  Terrace  Garden  \\\n",
       "0            130.0    False      False           False     True    True   \n",
       "2            200.0     True      False           False    False   False   \n",
       "3            270.0    False      False           False     True    True   \n",
       "4            135.0     True      False           False     True   False   \n",
       "6            207.0     True      False           False     True    True   \n",
       "...            ...      ...        ...             ...      ...     ...   \n",
       "10068        326.0     True      False            True     True    True   \n",
       "10069        150.0     True      False           False     True    True   \n",
       "10070       1380.0     True      False            True     True    True   \n",
       "10071        120.0    False      False           False    False    True   \n",
       "10076        120.0     True      False           False     True    True   \n",
       "\n",
       "       Surface area land   Pool  Condition  \n",
       "0                  239.0  False       True  \n",
       "2                 1150.0  False       True  \n",
       "3                  498.0  False      False  \n",
       "4                  165.0  False      False  \n",
       "6                  534.0  False       True  \n",
       "...                  ...    ...        ...  \n",
       "10068                0.0  False       True  \n",
       "10069              390.0  False       True  \n",
       "10070             1300.0  False       True  \n",
       "10071              310.0  False       True  \n",
       "10076              839.0  False       True  \n",
       "\n",
       "[5864 rows x 13 columns]"
      ]
     },
     "execution_count": 2,
     "metadata": {},
     "output_type": "execute_result"
    }
   ],
   "source": [
    "df = pd.read_csv(\"./data/dataframe.csv\", index_col=\"Unnamed: 0\")\n",
    "df"
   ]
  },
  {
   "cell_type": "code",
   "execution_count": 5,
   "metadata": {},
   "outputs": [
    {
     "data": {
      "text/plain": [
       "pandas.core.series.Series"
      ]
     },
     "execution_count": 5,
     "metadata": {},
     "output_type": "execute_result"
    }
   ],
   "source": [
    "type(df[\"Property subtype\"].drop_duplicates())"
   ]
  },
  {
   "cell_type": "code",
   "execution_count": 3,
   "metadata": {
    "scrolled": true
   },
   "outputs": [
    {
     "data": {
      "text/plain": [
       "Price                                  1.000000\n",
       "Number of bedrooms                     0.127265\n",
       "Living area                            0.509285\n",
       "Kitchen                                0.069707\n",
       "Furnished                              0.066064\n",
       "                                         ...   \n",
       "Property subtype_MANSION               0.105717\n",
       "Property subtype_MIXED_USE_BUILDING    0.040878\n",
       "Property subtype_OTHER_PROPERTY        0.070808\n",
       "Property subtype_TOWN_HOUSE           -0.017156\n",
       "Property subtype_VILLA                 0.266633\n",
       "Name: Price, Length: 186, dtype: float64"
      ]
     },
     "execution_count": 3,
     "metadata": {},
     "output_type": "execute_result"
    }
   ],
   "source": [
    "train_df = pd.get_dummies(df)\n",
    "train_df.corr().Price"
   ]
  },
  {
   "cell_type": "code",
   "execution_count": 4,
   "metadata": {},
   "outputs": [
    {
     "data": {
      "image/png": "[encoded data removed]",
      "text/plain": [
       "<Figure size 432x288 with 2 Axes>"
      ]
     },
     "metadata": {
      "needs_background": "light"
     },
     "output_type": "display_data"
    }
   ],
   "source": [
    "ax = sns.heatmap(df.corr())\n",
    "  \n",
    "plt.title( \"2-D Heat Map\" )\n",
    "plt.show()"
   ]
  },
  {
   "cell_type": "code",
   "execution_count": 5,
   "metadata": {},
   "outputs": [
    {
     "data": {
      "text/plain": [
       "<BarContainer object of 14 artists>"
      ]
     },
     "execution_count": 5,
     "metadata": {},
     "output_type": "execute_result"
    },
    {
     "data": {
      "image/png": "[encoded data removed]",
      "text/plain": [
       "<Figure size 432x288 with 1 Axes>"
      ]
     },
     "metadata": {
      "needs_background": "light"
     },
     "output_type": "display_data"
    }
   ],
   "source": [
    "plt.bar(df[\"Property subtype\"].drop_duplicates(), df.groupby(\"Property subtype\").mean().Price)"
   ]
  },
  {
   "cell_type": "code",
   "execution_count": 6,
   "metadata": {},
   "outputs": [
    {
     "data": {
      "text/plain": [
       "Property subtype\n",
       "APARTMENT_BLOCK         6.527246e+05\n",
       "BUNGALOW                3.141900e+05\n",
       "CASTLE                  2.050000e+06\n",
       "CHALET                  2.445000e+05\n",
       "COUNTRY_COTTAGE         4.106226e+05\n",
       "EXCEPTIONAL_PROPERTY    1.039724e+06\n",
       "FARMHOUSE               5.097933e+05\n",
       "HOUSE                   3.371955e+05\n",
       "MANOR_HOUSE             8.921667e+05\n",
       "MANSION                 6.625279e+05\n",
       "MIXED_USE_BUILDING      4.878384e+05\n",
       "OTHER_PROPERTY          8.607353e+05\n",
       "TOWN_HOUSE              3.626649e+05\n",
       "VILLA                   6.968433e+05\n",
       "Name: Price, dtype: float64"
      ]
     },
     "execution_count": 6,
     "metadata": {},
     "output_type": "execute_result"
    }
   ],
   "source": [
    "df.groupby(\"Property subtype\").mean().Price"
   ]
  },
  {
   "cell_type": "code",
   "execution_count": 7,
   "metadata": {},
   "outputs": [
    {
     "data": {
      "text/plain": [
       "0                      HOUSE\n",
       "26           APARTMENT_BLOCK\n",
       "34                     VILLA\n",
       "45        MIXED_USE_BUILDING\n",
       "144                FARMHOUSE\n",
       "187               TOWN_HOUSE\n",
       "192                  MANSION\n",
       "200     EXCEPTIONAL_PROPERTY\n",
       "233                 BUNGALOW\n",
       "458          COUNTRY_COTTAGE\n",
       "591              MANOR_HOUSE\n",
       "2050          OTHER_PROPERTY\n",
       "2392                  CHALET\n",
       "3075                  CASTLE\n",
       "Name: Property subtype, dtype: object"
      ]
     },
     "execution_count": 7,
     "metadata": {},
     "output_type": "execute_result"
    }
   ],
   "source": [
    "df[\"Property subtype\"].drop_duplicates()"
   ]
  },
  {
   "cell_type": "code",
   "execution_count": 8,
   "metadata": {},
   "outputs": [],
   "source": [
    "X = train_df.drop(\"Price\", axis=1)\n",
    "y = train_df.Price\n",
    "\n",
    "X_train, X_test, y_train, y_test = train_test_split(X, y, test_size=0.3, random_state=42)"
   ]
  },
  {
   "cell_type": "code",
   "execution_count": 9,
   "metadata": {},
   "outputs": [
    {
     "data": {
      "text/plain": [
       "0.9410152604319119"
      ]
     },
     "execution_count": 9,
     "metadata": {},
     "output_type": "execute_result"
    }
   ],
   "source": [
    "clf = RandomForestRegressor().fit(X_train, y_train)\n",
    "clf.score(X_train, y_train)"
   ]
  },
  {
   "cell_type": "code",
   "execution_count": 10,
   "metadata": {},
   "outputs": [
    {
     "data": {
      "text/plain": [
       "0.59187054278961"
      ]
     },
     "execution_count": 10,
     "metadata": {},
     "output_type": "execute_result"
    }
   ],
   "source": [
    "clf.score(X_test, y_test)"
   ]
  },
  {
   "cell_type": "code",
   "execution_count": 12,
   "metadata": {},
   "outputs": [],
   "source": [
    "pickle.dump(clf, open(\"models/random_forest.sav\", 'wb'))"
   ]
  }
 ],
 "metadata": {
  "kernelspec": {
   "display_name": "Python 3",
   "language": "python",
   "name": "python3"
  },
  "language_info": {
   "codemirror_mode": {
    "name": "ipython",
    "version": 3
   },
   "file_extension": ".py",
   "mimetype": "text/x-python",
   "name": "python",
   "nbconvert_exporter": "python",
   "pygments_lexer": "ipython3",
   "version": "3.8.10"
  }
 },
 "nbformat": 4,
 "nbformat_minor": 4
}
